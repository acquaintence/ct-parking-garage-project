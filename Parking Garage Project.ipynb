{
 "cells": [
  {
   "cell_type": "markdown",
   "metadata": {},
   "source": [
    "# Parking Garage Project\n",
    "\n",
    "Your assignment for today is to create a parking garage class to get more familiar with Object Oriented Programming(OOP). \n",
    "\n",
    "Your parking gargage class should have the following methods:\n",
    "- takeTicket\n",
    "   - This should decrease the amount of tickets available by 1\n",
    "   - This should decrease the amount of parkingSpaces available by 1\n",
    "- payForParking\n",
    "   - Display an input that waits for an amount from the user and store it in a variable\n",
    "   - If the payment variable is not empty then ->  display a message to the user that their ticket has been paid and they have 15mins to leave\n",
    "   - This should update the \"currentTicket\" dictionary key \"paid\" to True\n",
    "-leaveGarage\n",
    "   - If the ticket has been paid, display a message of \"Thank You, have a nice day\"\n",
    "   - If the ticket has not been paid, display an input prompt for payment\n",
    "      - Once paid, display message \"Thank you, have a nice day!\"\n",
    "   - Update parkingSpaces list to increase by 1\n",
    "   - Update tickets list to increase by 1\n",
    "\n",
    "You will need a few attributes as well:\n",
    "- tickets -> list\n",
    "- parkingSpaces -> list\n",
    "- currentTicket -> dictionary"
   ]
  },
  {
   "cell_type": "code",
   "execution_count": null,
   "metadata": {},
   "outputs": [],
   "source": [
    "class ParkingGarage():\n",
    "    ticketList = []\n",
    "    parkingSpaces = []\n",
    "    currentTicket = {\"paid\": False,\n",
    "                     \"Parking Cost\": 10,\n",
    "                    }\n",
    "\n",
    "    def __init__ (self,spaces):\n",
    "      for i in range(int(spaces)):\n",
    "          self.ticketList.append(\"Ticket\")\n",
    "      for i in range(int(spaces)):\n",
    "          self.parkingSpaces.append(\"Parking Space\")\n",
    "  \n",
    "    def takeTicket(self):\n",
    "      self.parkingSpaces.pop()\n",
    "      self.ticketList.pop()\n",
    "  \n",
    "    def payForParking(self):\n",
    "      collectPayment = True\n",
    "      while collectPayment:\n",
    "        if {self.currentTicket[\"paid\"]} == True:\n",
    "          collectPayment = False\n",
    "        else:\n",
    "          display = input(f'Parking is ${self.currentTicket[\"Parking Cost\"]}. \\n Pay? Y / N ')\n",
    "          if display.lower() == \"y\":\n",
    "            self.currentTicket.update({\"paid\": True})\n",
    "            print(\"\\nThank you, have a nice day!\")\n",
    "            collectPayment = False\n",
    "\n",
    "          elif display.lower() == \"n\":\n",
    "            print(\"See you later. Gotta pay to leave buddy. \")\n",
    "      print(\"\\nYour ticket has been paid. You have 15 minutes to leave the garage.\")\n",
    "      self.ticketList.append(\"Ticket\")\n",
    "      self.parkingSpaces.append(\"Parking Space\")\n",
    "\n",
    "    def showSpaces(self):\n",
    "      print(f\"There are {len(self.parkingSpaces)} parking spaces left in this garage.\")"
   ]
  },
  {
   "cell_type": "code",
   "execution_count": null,
   "metadata": {},
   "outputs": [],
   "source": []
  }
 ],
 "metadata": {
  "kernelspec": {
   "display_name": "Python 3",
   "language": "python",
   "name": "python3"
  },
  "language_info": {
   "codemirror_mode": {
    "name": "ipython",
    "version": 3
   },
   "file_extension": ".py",
   "mimetype": "text/x-python",
   "name": "python",
   "nbconvert_exporter": "python",
   "pygments_lexer": "ipython3",
   "version": "3.7.3"
  }
 },
 "nbformat": 4,
 "nbformat_minor": 2
}
